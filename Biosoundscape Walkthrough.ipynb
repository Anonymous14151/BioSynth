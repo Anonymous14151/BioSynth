{
 "cells": [
  {
   "cell_type": "markdown",
   "id": "cccf100e",
   "metadata": {},
   "source": [
    "# BioSoundScapes\n",
    "### An Educational Sonic Journey through your Biosignals\n",
    "\n",
    "**BIOSOUND: What do you sound like?** <div text-justify>is an art exhibition that explores the intersection of art and science through your body. The exhibition features stations where the visitor becomes an artist. How the visitor’s artistic self is expressed will be through his/her body, more concretely with his/her Biosignals. Not only will the visitor become an artist, but he/she will also make sense of their physiology, learning about their body in the process. Through interactive installations and immersive experiences, visitors will have the opportunity to learn about the science behind biosignals and create art through sounds. In this document, we share an initial set of ideas for an art exhibition about the fascinating world of biosignals.</div>\n",
    "\n",
    "\n",
    "### Why are we doing this?\n",
    "\n",
    "We are making sound with Biosignals, just as if the signals that your body generates could be a 🎹, a 🎷, an 🪗, or even a 🪕. All that matters, is that 🎶 is played with your signals.\n",
    "\n",
    "* **It can be used as an educational process**\n",
    "What do we mean by educational process? Basically that with the sound feedback you can get more knowledge, a better understanding and more control over your signals, namely **why** does my signal change when *this* happens...or **what** happened physiologically that can be understood with the sound of signals.\n",
    "\n",
    "* **It can be fun!!!**\n",
    "Just the shear fun of it! Playing music with our biosignals can be so much fun! Expressing our feellings, our emotions, our physiology as music can be a transcendent activity and we will try to make your biosignals sound good!\n",
    "\n",
    "\n",
    "### What you will find in here?\n",
    "\n",
    "For now, you will find a list of experiments in which specific biosignals are used to modulate sound. We will start with simple amplitude and frequency modulators, but then try to expand it into more complex modulations, such as ADSR, key changes, and even try to put some AI (🤖) into play.\n",
    "\n",
    "Here are the list of planned experiments:\n",
    "\n",
    "* ❤️ - **ECG** -\n",
    "    * A - Use the amplitude of the ECG signal to modulate the amplitude of a sine wave\n",
    "    * B - Use the heart rate of the ECG signal to modulate the amplitude of a sine wave\n",
    "    * C - Use the amplitude of the ECG signal to modulate the frequency of a sine wave\n",
    "    * D - Use the heart rate of the ECG signal to modulate the frequency of a sine wave\n",
    "    * E - Use the P peak position to play a key in a frequency based on: (1) the heart rate, (2) the amplitude of the peak.\n",
    "\n",
    "* 💪 - **EMG** - \n",
    "    * A - Use the amplitude of the envelope of the EMG to modulate the amplitude of a sine wave\n",
    "    * B - Use the amplitude of the envelope of the EMG to modulate the frequency of a sine wave\n",
    "    * C - Use the amplitude of the envelope of the EMG (1 contraction) to extract ADSR parameters and modulate the key playing"
   ]
  },
  {
   "cell_type": "code",
   "execution_count": 2,
   "id": "b201b641",
   "metadata": {},
   "outputs": [
    {
     "ename": "ModuleNotFoundError",
     "evalue": "No module named 'neurokit2'",
     "output_type": "error",
     "traceback": [
      "\u001b[1;31m---------------------------------------------------------------------------\u001b[0m",
      "\u001b[1;31mModuleNotFoundError\u001b[0m                       Traceback (most recent call last)",
      "Cell \u001b[1;32mIn[2], line 1\u001b[0m\n\u001b[1;32m----> 1\u001b[0m \u001b[38;5;28;01mfrom\u001b[39;00m \u001b[38;5;21;01mSynth\u001b[39;00m \u001b[38;5;28;01mimport\u001b[39;00m \u001b[38;5;241m*\u001b[39m\n",
      "File \u001b[1;32m~\\PycharmProjects\\biosig2music\\Synth.py:4\u001b[0m\n\u001b[0;32m      1\u001b[0m \u001b[38;5;28;01mfrom\u001b[39;00m \u001b[38;5;21;01mabc\u001b[39;00m \u001b[38;5;28;01mimport\u001b[39;00m ABC, abstractmethod\n\u001b[0;32m      2\u001b[0m \u001b[38;5;28;01mimport\u001b[39;00m \u001b[38;5;21;01mitertools\u001b[39;00m\n\u001b[1;32m----> 4\u001b[0m \u001b[38;5;28;01mimport\u001b[39;00m \u001b[38;5;21;01mneurokit2\u001b[39;00m \u001b[38;5;28;01mas\u001b[39;00m \u001b[38;5;21;01mnk\u001b[39;00m\n\u001b[0;32m      6\u001b[0m \u001b[38;5;28;01mimport\u001b[39;00m \u001b[38;5;21;01mnumpy\u001b[39;00m \u001b[38;5;28;01mas\u001b[39;00m \u001b[38;5;21;01mnp\u001b[39;00m\n\u001b[0;32m      7\u001b[0m \u001b[38;5;28;01mimport\u001b[39;00m \u001b[38;5;21;01mmath\u001b[39;00m\n",
      "\u001b[1;31mModuleNotFoundError\u001b[0m: No module named 'neurokit2'"
     ]
    }
   ],
   "source": [
    "from Synth import *"
   ]
  },
  {
   "cell_type": "code",
   "execution_count": null,
   "id": "942a2fed",
   "metadata": {},
   "outputs": [],
   "source": []
  }
 ],
 "metadata": {
  "kernelspec": {
   "display_name": "venv",
   "language": "python",
   "name": "venv"
  },
  "language_info": {
   "codemirror_mode": {
    "name": "ipython",
    "version": 3
   },
   "file_extension": ".py",
   "mimetype": "text/x-python",
   "name": "python",
   "nbconvert_exporter": "python",
   "pygments_lexer": "ipython3",
   "version": "3.9.13"
  }
 },
 "nbformat": 4,
 "nbformat_minor": 5
}
